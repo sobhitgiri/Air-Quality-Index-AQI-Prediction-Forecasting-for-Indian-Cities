{
 "cells": [
  {
   "cell_type": "markdown",
   "id": "e8e684c3",
   "metadata": {},
   "source": [
    "# 02 - Preprocessing\n",
    "This notebook handles missing values, encodes categorical features, and extracts new features from the raw AQI dataset."
   ]
  },
  {
   "cell_type": "code",
   "execution_count": 4,
   "id": "b2c51a74",
   "metadata": {},
   "outputs": [],
   "source": [
    "# Import libraries and load raw AQI data\n",
    "import pandas as pd\n",
    "import numpy as np\n",
    "df = pd.read_csv('../data/raw_aqi_data.csv')"
   ]
  },
  {
   "cell_type": "code",
   "execution_count": 5,
   "id": "2d3c3263",
   "metadata": {},
   "outputs": [],
   "source": [
    "# Handle missing values and convert Date column\n",
    "df = df.dropna(subset=[\"AQI_Bucket\"])  # Drop rows with missing target\n",
    "df.fillna(df.mean(numeric_only=True), inplace=True)  # Fill missing numeric values with mean\n",
    "df[\"Date\"] = pd.to_datetime(df[\"Date\"], errors=\"coerce\")\n",
    "df[\"Year\"] = df[\"Date\"].dt.year\n",
    "df[\"Month\"] = df[\"Date\"].dt.month"
   ]
  },
  {
   "cell_type": "code",
   "execution_count": 6,
   "id": "9a3c49e8",
   "metadata": {},
   "outputs": [],
   "source": [
    "# Encode categorical features and save processed data\n",
    "from sklearn.preprocessing import LabelEncoder\n",
    "label_enc = LabelEncoder()\n",
    "df[\"AQI_Bucket\"] = label_enc.fit_transform(df[\"AQI_Bucket\"].astype(str))\n",
    "for col in [\"City\", \"Station\"]:\n",
    "    if col in df.columns:\n",
    "        df[col] = LabelEncoder().fit_transform(df[col].astype(str))\n",
    "df.to_csv('../data/processed_aqi.csv', index=False)"
   ]
  },
  {
   "cell_type": "markdown",
   "id": "b56580eb",
   "metadata": {},
   "source": [
    "✅ Preprocessing complete. Proceed to 03_model_training.ipynb for model building and training."
   ]
  }
 ],
 "metadata": {
  "kernelspec": {
   "display_name": ".venv",
   "language": "python",
   "name": "python3"
  },
  "language_info": {
   "codemirror_mode": {
    "name": "ipython",
    "version": 3
   },
   "file_extension": ".py",
   "mimetype": "text/x-python",
   "name": "python",
   "nbconvert_exporter": "python",
   "pygments_lexer": "ipython3",
   "version": "3.13.5"
  }
 },
 "nbformat": 4,
 "nbformat_minor": 5
}
